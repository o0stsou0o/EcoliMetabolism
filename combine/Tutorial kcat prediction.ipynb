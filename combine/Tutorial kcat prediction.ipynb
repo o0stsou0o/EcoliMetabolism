{
 "cells": [
  {
   "cell_type": "markdown",
   "metadata": {},
   "source": [
    "#### Dependencies:"
   ]
  },
  {
   "cell_type": "code",
   "execution_count": 1,
   "metadata": {},
   "outputs": [],
   "source": [
    "\n",
    "from kcat_prediction import *"
   ]
  },
  {
   "cell_type": "markdown",
   "metadata": {},
   "source": [
    "Before using kcat prediction for the first time, we have to download the ESM-1b model:"
   ]
  },
  {
   "cell_type": "code",
   "execution_count": 2,
   "metadata": {},
   "outputs": [
    {
     "name": "stderr",
     "output_type": "stream",
     "text": [
      "Using cache found in /n/home00/stephentsou/.cache/torch/hub/facebookresearch_esm_v0.4.0\n"
     ]
    }
   ],
   "source": [
    "import esm\n",
    "model, alphabet = torch.hub.load(\"facebookresearch/esm:v0.4.0\", \"esm1b_t33_650M_UR50S\")\n",
    "\n",
    "#model, alphabet = torch.hub.load(\"facebookresearch/esm:v0.4.0\", \"esm1v_t33_650M_UR90S\")\n",
    "\n"
   ]
  },
  {
   "cell_type": "markdown",
   "metadata": {},
   "source": [
    "Example for calculating kcat prediction. You can enter multiple enyzmes and substrates. Enzyme 1 will be paired with substrates 1/products 1, enzyme 2 will be paired with substrates 2/products 2 and so on..."
   ]
  },
  {
   "cell_type": "markdown",
   "metadata": {},
   "source": [
    "Enter enzymes as amino acid sequences and substrates/products either as SMILES strings, KEGG Compound IDs, or InChI strings. If the reaction has multiple substrates or products, separate them by using a semicolon (\";)"
   ]
  },
  {
   "cell_type": "code",
   "execution_count": 3,
   "metadata": {},
   "outputs": [],
   "source": [
    "#substrates = [\"InChI=1S/C7H5NO4/c9-8(10)5-1-2-6-7(3-5)12-4-11-6/h1-3H,4H2;InChI=1S/H2O2/c1-2/h1-2H\",]\n",
    "##tetrahydrofolate SMILES = C1[C@@H](NC2=C(N1)N=C(NC2=O)N)CNC3=CC=C(C=C3)C(=O)N[C@@H](CCC(=O)O)C(=O)O\n",
    "\n",
    "\n",
    "\n",
    "substrates = [\"InChI=1S/C19H23N7O6/c20-19-25-15-14(17(30)26-19)23-11(8-22-15)7-21-10-3-1-9(2-4-10)16(29)24-12(18(31)32)5-6-13(27)28/h1-4,11-12,21,23H,5-8H2,(H,24,29)(H,27,28)(H,31,32)(H4,20,22,25,26,30)/t11-,12-/m0/s1;InChI=1S/C21H27N7O14P2/c22-17-12-19(25-7-24-17)28(8-26-12)21-16(32)14(30)11(41-21)6-39-44(36,37)42-43(34,35)38-5-10-13(29)15(31)20(40-10)27-3-1-2-9(4-27)18(23)33/h1-4,7-8,10-11,13-16,20-21,29-32H,5-6H2,(H5-,22,23,24,25,33,34,35,36,37)/p+1/t10-,11-,13-,14-,15-,16-,20-,21-/m1/s1\",]\n",
    "\n",
    "\n",
    "\n",
    "#products = [\"InChI=1S/C6H5NO4/c8-5-2-1-4(7(10)11)3-6(5)9/h1-3,8-9H;InChI=1S/CH2O2/c2-1-3/h1H,(H,2,3);InChI=1S/H2O/h1H2\"]\n",
    "\n",
    "#dihydrofolate acid, NADPH\n",
    "products = [\"InChI=1S/C19H21N7O6/c20-19-25-15-14(17(30)26-19)23-11(8-22-15)7-21-10-3-1-9(2-4-10)16(29)24-12(18(31)32)5-6-13(27)28/h1-4,12,21H,5-8H2,(H,24,29)(H,27,28)(H,31,32)(H4,20,22,25,26,30)/t12-/m0/s1;InChI=1S/C21H30N7O17P3/c22-17-12-19(25-7-24-17)28(8-26-12)21-16(44-46(33,34)35)14(30)11(43-21)6-41-48(38,39)45-47(36,37)40-5-10-13(29)15(31)20(42-10)27-3-1-2-9(4-27)18(23)32/h1,3-4,7-8,10-11,13-16,20-21,29-31H,2,5-6H2,(H2,23,32)(H,36,37)(H,38,39)(H2,22,24,25)(H2,33,34,35)/t10-,11-,13-,14-,15-,16-,20-,21-/m1/s1;InChI=1S/p+1\"]\n",
    "\n",
    "#H+\n",
    "#;1S/p+1\n",
    "\n",
    "\n",
    "#enzymes = [\"MKYFPLFPTLVFAARVVAFPAYASLAGLSQQELDAIIPTLEAREPGLPPGPLENSSAKLVNDEAHPWKPLRPGDIRGPCPGLNTLASHGYLPRNGVATPVQIINAVQEGLNFDNQAAVFATYAAHLVDGNLITDLLSIGRKTRLTGPDPPPPASVGGLNEHGTFEGDASMTRGDAFFGNNHDFNETLFEQLVDYSNRFGGGKYNLTVAGELRFKRIQDSIATNPNFSFVDFRFFTAYGETTFPANLFVDGRRDDGQLDMDAARSFFQFSRMPDDFFRAPSPRSGTGVEVVIQAHPMQPGRNVGKINSYTVDPTSSDFSTPCLMYEKFVNITVKSLYPNPTVQLRKALNTNLDFFFQGVAAGCTQVFPYGRD\"]\n",
    "\n",
    "#DHFR\n",
    "#enzymes = [\"MVGSLNCIVAVSQNMGIGKNGDLPWPPLRNEFRYFQRMTTTSSVEGKQNLVIMGKKTWFSIPEKNRPLKGRINLVLSRELKEPPQGAHFLSRSLDDALKLTEQPELANKVDMVWIVGGSSVYKEAMNHPGHLKLFVTRIMQDFESDTFFPEIDLEKYKLLPEYPGVLSDVQEEKGIKYKFEVYEKND\"]\n",
    "\n",
    "#1\n",
    "#enzymes = [\"MISFIFAMDANRLIGKDNDLPWHLPNDLAYFKKITSGHSIIMGRKTFESIGRPLPNRKNIVVTSAPDSEFQGCTVVSSLKDVLDICSGPEECFVIGGAQLYTDLFPYADRLYMTKIHHEFEGDRHFPEFDESNWKLVSSEQGTKDEKNPYDYEFLMYEKKNSSKVGGF\"]\n",
    "#2\n",
    "#enzymes = [\"MTFSLIVATTLNSVIGKDNQMPWHLPADLAWFRQNTTGKPVIMGRKTFESIGRPLPKRTNIVLSRQPFKHEGVVWKNSLESAVNFVRDFDEIMLIGGGELFKQYLPKADKLYLTQIQTELDGDTFFPQLNWEEWKIEFDEYHKADEQNRYDCRSLILTRK\"]\n",
    "#3\n",
    "#enzymes = [\"MTFSLIVAMTKNHVIGKDNQMPWHLPADLAWFRQNTTGKPVIMGRKTFESIGRPLPKRTNLVLSRQPYLHEGVIWQNSLESAVDFVKDSPEILLIGGGELFKQYLHKADKLYLTEIQTELEGDTFFPEIVWQDWQIEYEAWHQADEKNPYDCRFLILSRNTKNE\"]\n",
    "#4\n",
    "#enzymes = [\"MIIGIWAEDEAGLIGEADKMPWSLPAEQQHFKETTMNQVILMGRKTFEGMNKRVLPGRISIILTRDETYQSDNEKVLIMHSPKEVLDWYHKQNKDLFITGGAEILALFESELELLYRTVVHEKFKGDTYFPSTFDFGRFKLVSEKFHDKDERNSYTFTIKKYEKVKQP\"]\n",
    "#5\n",
    "#enzymes = [\"MLSIIAALNENYVIGNENKLIWHISDDLKRFKKLTTGKTIIMGRKTFESLPGVLPNRKHIVITKNLNYSRENVSIVHSIDEIIELKDTTEENFIIGGGEIYRALIPYCSILYLTKVHSNQTGDAFFPKFDENDYSIIATEKHGDYDFVTFKRR\"]\n",
    "#6\n",
    "#enzymes = [\"MIIFVWAQDRAGNIGKDNKMPWHLPGDLQFFKKTTTGKTLVMGRKTYESLGKALPNRKTIVLTRDNELQLDDAEILHSRDEVLALAETGEPIYVVGGAEIYRLFMDVADKLIVTKIDAEFDADTAFPEVDWENFSEVAKEPHEKDEKNKYNYTFYTYERN\"]\n",
    "#7\n",
    "#enzymes = [\"MPMPATPLLSLVVAYSTNGVIGRDNALPWKLPGDLAHFKRTTLGHPIIMGRNTWESLGRPLPGRTNIVITRNPAYGAAGAVVVGSLDAAIQACGDAAVACVIGGAQIYAQALPLAQRVVATEVHAEIEGDAFFPPLPAGQWRETQRAAQPAENGLRYDFVEYERVAG\"]\n",
    "#8\n",
    "#enzymes = [\"MIISLIAALAADRVIGMENAMPWHLPADLAWFKRNTLNKPVIMGRKTFESIGRPLPGRLNIVISSQPGTDERVTWAASIEEALAFAGNAEEVMVMGGGRVYKQFLDRANRMYLTHIDAEVGGDTHFPDYEPDEWESVFSEFHDADEANSHSYCFEILERR\"]\n",
    "#9\n",
    "#enzymes = [\"MTRPPDISLIVAMARNRVIGADNAMPWHLSADLKRFRALTLGKPVLMGRKTHESIGRVLPGRQNIILTRSPDFHAPGCTIVHDLGELATVCSGAPELMVIGGSAVYEALLPRARRLYLTLIDHDYPGDTYFPEFAAADWREISREDVRNDPDFPWPYSYLVLERASPEARCQ\"]\n",
    "#10\n",
    "#enzymes = [\"MSGTGQPRVSVIAALAKNRVIGIENRLPWRLPEDLAHFKALTLDHPVLMGRKTFESLGRPLPRRTNVVITRNADYRPDGCLVAASMPAAIALCQGADEIFFIGGAELYAQAIPLADRLYLTEVDAEPEGDAWFPEFDRAAFREISRASHVGEKGDVLRFDFVVYERR\"]\n",
    "#11\n",
    "#enzymes = [\"MAQLTLIVAYARNRVIGRDNTLPWRLPGDLAHFKRSTLGHPIVMGRNTWESLGRPLPGRKNIVVSRNPDYRAEGAIVVPDLQSALKMAEADEVFVIGGAQIYSQALPLATRIIATEIQANVAGDAYFPPLAQTEWRETSRQPQPEENGYHYDFVVYERNR\"]\n",
    "#12\n",
    "#enzymes = [\"MTKIKMVWAEDRQHAIGKDGGIPWHMPDDLKLFRDETVNTLMIMGRPTWLSIGRPLPKRTTVVMTRQEDWTPSYPEVKVIHSIEEAKNLIAKEERDITIAGGAAVYREFMPYATDLVITRVDGVIDGDTFVDEVDLTQFQLKSSEPHAKDDNHDYAFVVERYERI\"]\n",
    "#13\n",
    "#enzymes = [\"MMISMIAAMAHDRVIGLDNQMPWHLPADLAHFKRVTLGKPVLMGRKTFESIGRPLPGRRNLVISRNPDYRADGVEVIDSVDAALALLAGSDVAELMVIGGGHLYGQLLPRADRLYLTRIDLAVEGDTRFPAFDEGDWSCIERESHQPDEKNPHSYCFETWQRR\"]\n",
    "#14\n",
    "#enzymes = [\"MRIAMIAAMANNRVIGKDNQMPWHLPEDLKHFKAMTLGKPVVMGRKTFESIGRPLPGRHNIVISRQSDYSHEGISLVSSFEEAVALAGDCEELVVIGGGQLYQTLISQADKLYLTEIALEVEGDTHFPAWDDGSWETVESTEHVSDKGLQYRFITLVKKC\"]\n",
    "#16\n",
    "#enzymes = [\"MISMIWAMGRNNALGCKNRMPWYIPADFAYFKKVTMGKPVIMGRKTFESIGKPLPGRKNIVITRDTGYDPQGCIVVNSIEKAMEYTEEKEVFIIGGAEIYKEFLPIADRLYITLIEKEFEADAFFPEIDYSKWKQISCETGIKDEKNPYEYKWLVYERVKQ\"]\n",
    "#17\n",
    "#enzymes = [\"MTKEMIAIWAEDEAGLIGVDGKLPWYLPRELQHFKETTLNQAILMGRVTFDGMNRRLLPNRQTLVMTRDVNYQVDGVLTMTSVEEVLDWYHAQEKTLYVIGGSKVLEAFDGYFNRVIKTVVHHQFEGDTYRPKLDLSRFREESQTFYPKDANNPYDFTVTVLKHQ\"]\n",
    "#19\n",
    "#enzymes = [\"MINLIWAQDANGNIGKDNQMPWRLPADLAYFKKQTTGKTIVMGRKTYDSLGKALPNRENIVLTRDPELTLADASVVHTKADILKRAEKEAIFIIGGAQIYALFADDADRLYVTKIAATFDADTAFPVLDWSAFRLVQETPGHIDEKNKYPHAFLVYEREQEIQ\"]\n",
    "#20\n",
    "#enzymes = [\"MIISLIAALAADRVIGMENAMPWHLPADLAWFKRNTLNKPVIMGRKTFESIGRPLPGRLNIVISSQPGADSRVSWATSIDEALALAGEVEEVMVMGGGHVYSQFLDRAHRMYLTHIDAEVGGDTHFPDYEPDEWETSFSEFHDADEANSHSYCFEVLERR\"]\n",
    "#21\n",
    "#enzymes = [\"MHKMAEKNLIWAQTLDGTIAIDGHIPWHQKADLQFFKQSTIHEAALMGRHTMASFHGRPLPERLNLVLTRNHDLEVPEGFQKVYSVAEAEKVADNANLKLQVIGGKPIYESFMDTADTLYVTYLQTDFSGDVKMAPVDLTVWQGEVIDQGPADADNDYDWRLVKYTRQ\"]\n",
    "#22\n",
    "#enzymes = [\"MTTISLIAAIDESGGLGINNQLLCHLPADLQHFKSITMGKPIIMGRKTFDSIGKPLPGRLNIVLSRSLSFIDGVHVLDSLEKAIEYTAGHDEIMIIGGAVLFNDAIDKASSLYITHIHHQFAADVFFPKIDKSVWHCQNEQFRHQDEKNKHDMTFCFYERKH\"]\n",
    "#23\n",
    "#enzymes = [\"MKLSLMVAISKNGVIGNGPDIPWSAKGEQLLFKAITYNQWLLVGRKTFESMGALPNRKYAVVTRSSFTSDNENVLIFPSIKDALTNLKKITDHVIVSGGGEIYKSLIDQVDTLHISTIDIEPEGDVYFPEIPSNFRPVFTQDFASNINYSYQIWQKG\"]\n",
    "#26\n",
    "#enzymes = [\"MKLTLIVAFDRNNAIGRDNDLPWKLPDDLKRFKALTLGKPILMGRKTAQSLGRALPERLNLVLTRSGQVPFEGMHAVASVEQAIERAAQDGAQELCVIGGGEVYRLTMQRADLLAVTEVDTVVDGADTHFPPIDPALWEAVQRESHAADARHAFAFDYVDYRRR\"]\n",
    "#27\n",
    "#enzymes = [\"MNTSLPLSLIAAYAENRVIGIDNSMPWHLPGDFKYFKATTLGKPIIMGRKTWDSLGRPLPGRLNIVVSRQPGLELAGAEVFASLEEALVRAEQWAREQGVGELMLIGGAQLYGQALEKGLVSRMYLTRVELAPEGDAWFPAFDEGQWRLTSSEAQAEEGKPAYHFEVWDKG\"]\n",
    "#30\n",
    "#enzymes = [\"MIISFIVAMDENHLIGANRRLPWHLPADLKYFRRMTMGKPMLMGRSTHEAIGRPLPGRHNIVVTHNPDYKAPGCTVVHTVEAGLQAAGEAEEVTVIGGASLYEQLLPQARRIYLTLVRGHFQGDTWFPAFDPGTWVEVWREDYDPDPQNPYPYSFIRLEREERKK\"]\n",
    "#31\n",
    "#enzymes = [\"MISMIWAEDLRHGIGKQQSIPWHIPGDMAFFKKTTSGNTVVMGRKTFDSIGKALPNRKNIVLSHHPTSLPDSVVGVGSLSELQAIFETHPNEKFYIIGGSHLYNALLSQADELLITRIQKDYQCEVLAPDITQNEFKLASSVEHESTERNPAYTFETWIRI\"]\n",
    "#32\n",
    "#enzymes = [\"MISIIVAIAKDNVIGKDNKLLWHISEDLKRFKKITTGKKMIMGRKTFESLPGILPNREHIVLTRDNNFNVDSDKVTIEHDFNSVLQRYSECEDEVFVIGGAEIYKQFLPYAKKLYLTKVDEEFEGDTYFPGINYSNYNTEYTSEKFIDEKNGLHYTFVNLIQA\"]\n",
    "#33\n",
    "#enzymes = [\"MISLIAALAVDRVIGMENAMPWNLPADLAWFKRNTLNKPVVMGRHTWESIGRPLPGRKNIVISSQPGTDDRVQWVKSVDEAIAACGDAPEIMVIGGGRVYEQFLPKAQKLYLTHIDAEVEGDTHFPDYEPDDWESVFSEFHDADEQNSHSYCFEILERR\"]\n",
    "#35\n",
    "#enzymes = [\"MIISLIAALSADRVIGLDNAMPWHLSADLAWFKRNTLAKPVIMGRKTYESIGRPLPGRHNIVISRQAGCDDRVSWVATPEAALTAAADADEVMIIGGGTLYEQFLPQASRLYLTHVDADVAGDTYFPDYAPDEWQTCFSEFHEADSDNSHAYCFEILDRR\"]\n",
    "#36\n",
    "#enzymes = [\"MKIGLVAALTRNQVIGRYNALPWSLPADLQRFKKITMGKPIIMGRKTYDSIGRPLPGRKNIVISRNPDFHADGVTVVDSLDMALEAADQAPEVMVIGGANIYYQFLPRADRLYFTLVHTTIDDGDAFFPAYNRRDWRLVIEENHPADADNPFPYSFMTWQRITPPKNQSDTPEAHHI\"]\n",
    "#37\n",
    "#enzymes = [\"MAPVFFSEPFNMISLIAALAADRIIGMENAMPWDLPADLAWFKRNTLKKPVIMGRLTFESIGRPLPGRLNIVVSSKPGSAEGVTWVTSLDDAISAAGEAEEIMVIGGGRIYEQMLARADRLYLTHIDAEVEGDTQFPDYEPDEWHSTFSEFHDADEQNSHSYCFEILERRR\"]\n",
    "#38\n",
    "#enzymes = [\"MITSIWAQSKNNVIGRNNRLPWSLPDDLKFFRQETKNKAVVMGRKTYESFGSKALPKRLNIILTSNMDFKSNDPEVKIVHSPIEAVNTAKEQHLPLYVIGGASVYESFMNMADRLLITLVDANIKGDTFAPNFSEKSFSLVSQCHHAQDKKHAYSFDFLTYERKNKSDQV\"]\n",
    "#39\n",
    "#enzymes = [\"MTTLTLIVARARNGVIGRDNQLPWKLPEDLAFFKRTTMGAPIVMGRRTHESIGRPLPGRRNIVVTRDAARRFDGCDTVTSLDGALALAARDGAAEAFLIGGAQLYAEGLRHADKLIVTEIDQDFEGDASFPAPDPAQWEAVSRDAHRAAAPNDFAYAFVVYRRKRAG\"]\n",
    "#41\n",
    "#enzymes = [\"MPKITLIAACAPDRCIGINNTMPWHLPEDFAFFKSYTLDKPVVMGRKTWESLPRKPLPGRRNIVISRQADYPAEGAETVGSLEEALALCAAAEEVIIMGGAQIYAQALPLASDLRITEVALDVQGDAFFPEFSPSEWREAARETHTSANGTGYAFVHYTRIR\"]\n",
    "#42\n",
    "#enzymes = [\"MMISMIAAMAENRIIGKDNQMPWHLPADFAWFKRCTLGKPVIMGRKTYQSIGRPLPGRHNIVISRDESLQIDGVDVVTSIDAALAKAGEVDEIMIIGGGSLYAACLPMANKLYITEINAELDGDTQFPAWGSDWQECYREHYPADEKNTYAMDFVIFERK\"]\n",
    "#43\n",
    "enzymes = [\"MSEARPFTLALVVAAAENDVIGREGKLPWRLKSDLKRFRRLTMGHPLIMGRKTFASIGKPLDGRDSVIVTRDAASVSPQPGVFVATSIKDALDIARARAAERRVAEAFVIGGAEIFALALPYADRIHLARVHASPSGDAYWQAPPAEEWQVVSREEWPANQTDEFSVTDLVLERSPRA\"]\n",
    "\n",
    "\n",
    "\n",
    "\n",
    "\n",
    "\n",
    "\n"
   ]
  },
  {
   "cell_type": "code",
   "execution_count": 4,
   "metadata": {},
   "outputs": [
    {
     "name": "stdout",
     "output_type": "stream",
     "text": [
      "Step 1/3: Calculating numerical representations for all substrates and products.\n",
      "Step 2/3: Calculating numerical representations for all enzymes.\n",
      ".....2(a) Loading ESM-1b model.\n"
     ]
    },
    {
     "name": "stderr",
     "output_type": "stream",
     "text": [
      "[19:13:13] WARNING: not removing hydrogen atom without neighbors\n",
      "[19:13:13] DEPRECATION WARNING: please use AtomPairGenerator\n",
      "[19:13:13] DEPRECATION WARNING: please use AtomPairGenerator\n",
      "[19:13:13] DEPRECATION WARNING: please use AtomPairGenerator\n",
      "[19:13:13] DEPRECATION WARNING: please use AtomPairGenerator\n",
      "[19:13:13] DEPRECATION WARNING: please use AtomPairGenerator\n"
     ]
    },
    {
     "name": "stdout",
     "output_type": "stream",
     "text": [
      ".....2(b) Loading model parameters for task-specific model.\n",
      ".....2(c) Calculating enzyme representations.\n",
      "Step 3/3: Making predictions for kcat.\n"
     ]
    }
   ],
   "source": [
    "df = kcat_predicton(substrates = substrates,\n",
    "               products = products,\n",
    "               enzymes = enzymes)"
   ]
  },
  {
   "cell_type": "code",
   "execution_count": 5,
   "metadata": {},
   "outputs": [
    {
     "data": {
      "text/html": [
       "<div>\n",
       "<style scoped>\n",
       "    .dataframe tbody tr th:only-of-type {\n",
       "        vertical-align: middle;\n",
       "    }\n",
       "\n",
       "    .dataframe tbody tr th {\n",
       "        vertical-align: top;\n",
       "    }\n",
       "\n",
       "    .dataframe thead th {\n",
       "        text-align: right;\n",
       "    }\n",
       "</style>\n",
       "<table border=\"1\" class=\"dataframe\">\n",
       "  <thead>\n",
       "    <tr style=\"text-align: right;\">\n",
       "      <th></th>\n",
       "      <th>substrates</th>\n",
       "      <th>products</th>\n",
       "      <th>enzyme</th>\n",
       "      <th>difference_fp</th>\n",
       "      <th>enzyme rep</th>\n",
       "      <th>complete</th>\n",
       "      <th>kcat [s^(-1)]</th>\n",
       "    </tr>\n",
       "  </thead>\n",
       "  <tbody>\n",
       "    <tr>\n",
       "      <th>0</th>\n",
       "      <td>InChI=1S/C19H23N7O6/c20-19-25-15-14(17(30)26-1...</td>\n",
       "      <td>InChI=1S/C19H21N7O6/c20-19-25-15-14(17(30)26-1...</td>\n",
       "      <td>MSEARPFTLALVVAAAENDVIGREGKLPWRLKSDLKRFRRLTMGHP...</td>\n",
       "      <td>[0.0, 0.0, 0.0, 0.0, 0.0, 0.0, 0.0, 0.0, 0.0, ...</td>\n",
       "      <td>[1.097802, 0.6335388, -0.16979533, 0.9875663, ...</td>\n",
       "      <td>True</td>\n",
       "      <td>20.686501</td>\n",
       "    </tr>\n",
       "  </tbody>\n",
       "</table>\n",
       "</div>"
      ],
      "text/plain": [
       "                                          substrates  \\\n",
       "0  InChI=1S/C19H23N7O6/c20-19-25-15-14(17(30)26-1...   \n",
       "\n",
       "                                            products  \\\n",
       "0  InChI=1S/C19H21N7O6/c20-19-25-15-14(17(30)26-1...   \n",
       "\n",
       "                                              enzyme  \\\n",
       "0  MSEARPFTLALVVAAAENDVIGREGKLPWRLKSDLKRFRRLTMGHP...   \n",
       "\n",
       "                                       difference_fp  \\\n",
       "0  [0.0, 0.0, 0.0, 0.0, 0.0, 0.0, 0.0, 0.0, 0.0, ...   \n",
       "\n",
       "                                          enzyme rep  complete  kcat [s^(-1)]  \n",
       "0  [1.097802, 0.6335388, -0.16979533, 0.9875663, ...      True      20.686501  "
      ]
     },
     "execution_count": 5,
     "metadata": {},
     "output_type": "execute_result"
    }
   ],
   "source": [
    "df"
   ]
  },
  {
   "cell_type": "code",
   "execution_count": null,
   "metadata": {},
   "outputs": [],
   "source": [
    "pred = [17.18,\n",
    "14.7,\n",
    "14.5,\n",
    "15.7,\n",
    "12.4,\n",
    "18.36,\n",
    "12.85,\n",
    "11.26,\n",
    "21.04,\n",
    "21.04,\n",
    "9.2,\n",
    "20.88,\n",
    "37.24,\n",
    "20.53,\n",
    "30.31,\n",
    "7.43,\n",
    "18.92,\n",
    "15.25,\n",
    "15.64,\n",
    "25.97,\n",
    "14.47,\n",
    "18.59,\n",
    "19.25,\n",
    "15.3,\n",
    "10.12,\n",
    "5.26,\n",
    "25.15,\n",
    "20.43,\n",
    "14.47,\n",
    "12.56,\n",
    "31.23,\n",
    "24,\n",
    "20.69]\n",
    "\n",
    "true = [30.8,\n",
    "4.1,\n",
    "44.2,\n",
    "10.9,\n",
    "17.8,\n",
    "16.3,\n",
    "4.4,\n",
    "3.9,\n",
    "15.3,\n",
    "34.6,\n",
    "28.1,\n",
    "35.2,\n",
    "28.1,\n",
    "35.2,\n",
    "13.8,\n",
    "20,\n",
    "31.4,\n",
    "19.5,\n",
    "3.9,\n",
    "4.6,\n",
    "14.3,\n",
    "10,\n",
    "48.9,\n",
    "71.7,\n",
    "1.5,\n",
    "8.2,\n",
    "14.7,\n",
    "3.7,\n",
    "25.9,\n",
    "8.1,\n",
    "53.7,\n",
    "14.6,\n",
    "8.1]\n",
    "\n",
    "from sklearn.metrics import root_mean_squared_error\n",
    "\n",
    "print(root_mean_squared_error(true, pred))  #16.65\n",
    "\n",
    "colors = np.arange(0,32,1)\n",
    "\n"
   ]
  },
  {
   "cell_type": "code",
   "execution_count": null,
   "metadata": {},
   "outputs": [],
   "source": [
    "print(len(true))\n",
    "\n",
    "import matplotlib.pyplot as plt\n",
    "\n",
    "\n",
    "x = np.arange(0,33,1)\n",
    "print(len(x))\n",
    "\n",
    "plt.scatter(x, true, color = 'red')\n",
    "plt.scatter(x, pred, color = 'blue')\n",
    "\n",
    "\n",
    "\n",
    "#plt.scatter(true, pred)"
   ]
  },
  {
   "cell_type": "code",
   "execution_count": null,
   "metadata": {},
   "outputs": [],
   "source": []
  }
 ],
 "metadata": {
  "kernelspec": {
   "display_name": "Python [conda env:miniconda3-py319]",
   "language": "python",
   "name": "conda-env-miniconda3-py319-py"
  },
  "language_info": {
   "codemirror_mode": {
    "name": "ipython",
    "version": 3
   },
   "file_extension": ".py",
   "mimetype": "text/x-python",
   "name": "python",
   "nbconvert_exporter": "python",
   "pygments_lexer": "ipython3",
   "version": "3.10.15"
  }
 },
 "nbformat": 4,
 "nbformat_minor": 4
}
