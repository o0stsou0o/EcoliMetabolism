{
 "cells": [
  {
   "cell_type": "markdown",
   "metadata": {},
   "source": [
    "#### Dependencies:"
   ]
  },
  {
   "cell_type": "code",
   "execution_count": 1,
   "metadata": {},
   "outputs": [
    {
     "name": "stderr",
     "output_type": "stream",
     "text": [
      "2025-02-15 18:52:14.051434: W tensorflow/stream_executor/platform/default/dso_loader.cc:59] Could not load dynamic library 'libcudart.so.10.1'; dlerror: libcudart.so.10.1: cannot open shared object file: No such file or directory; LD_LIBRARY_PATH: /n/sw/helmod-rocky8/apps/Core/gcc/13.2.0-fasrc01/lib64:/n/sw/helmod-rocky8/apps/Core/gcc/13.2.0-fasrc01/lib:/n/sw/helmod-rocky8/apps/Core/mpc/1.3.1-fasrc02/lib64:/n/sw/helmod-rocky8/apps/Core/mpfr/4.2.1-fasrc01/lib64:/n/sw/helmod-rocky8/apps/Core/gmp/6.3.0-fasrc01/lib64\n",
      "2025-02-15 18:52:14.051458: I tensorflow/stream_executor/cuda/cudart_stub.cc:29] Ignore above cudart dlerror if you do not have a GPU set up on your machine.\n"
     ]
    }
   ],
   "source": [
    "import os\n",
    "import torch #pip install torch\n",
    "import numpy as np #pip install numpy\n",
    "#import pandas as pd \n",
    "import pickle\n",
    "import xgboost as xgb #pip install xgboost\n",
    "import tensorflow as tf #pip install tensorflow\n",
    "from tensorflow.keras import layers\n",
    "#from rdkit import Chem #conda install -c rdkit rdkit\n",
    "#from rdkit.Chem import Crippen \n",
    "#from rdkit.Chem import Descriptors\n",
    "import shutil\n",
    "import warnings\n",
    "import esm #pip install fair-esm"
   ]
  },
  {
   "cell_type": "code",
   "execution_count": 2,
   "metadata": {},
   "outputs": [],
   "source": [
    "from KM_prediction import *\n",
    "import os\n",
    "from os.path import join \n",
    "#import torch\n",
    "CURRENT_DIR = os.getcwd()"
   ]
  },
  {
   "cell_type": "markdown",
   "metadata": {},
   "source": [
    "Before using KM prediction for the first time, we have to download the ESM-1b model:"
   ]
  },
  {
   "cell_type": "code",
   "execution_count": 3,
   "metadata": {},
   "outputs": [
    {
     "name": "stderr",
     "output_type": "stream",
     "text": [
      "Using cache found in /n/home00/stephentsou/.cache/torch/hub/facebookresearch_esm_v0.4.0\n"
     ]
    }
   ],
   "source": [
    "import esm\n",
    "model, alphabet = torch.hub.load(\"facebookresearch/esm:v0.4.0\", \"esm1b_t33_650M_UR50S\")"
   ]
  },
  {
   "cell_type": "markdown",
   "metadata": {},
   "source": [
    "Example for calculating KM prediction. You can enter multiple enyzmes and substrates. Enzyme 1 will be paired with substrate 1, enzyme 2 will be paired with substrate 2 and so on..."
   ]
  },
  {
   "cell_type": "markdown",
   "metadata": {},
   "source": [
    "Enter enzymes as amino acid sequences and substrate either as SMILES strings, KEGG Compound IDs, or InChI strings."
   ]
  },
  {
   "cell_type": "code",
   "execution_count": 4,
   "metadata": {
    "scrolled": true
   },
   "outputs": [
    {
     "name": "stdout",
     "output_type": "stream",
     "text": [
      "Step 1/3: Calculating numerical representations for all metabolites.\n",
      ".....1(a) Calculating input matrices for Graph Neural Network\n",
      ".....1(b) Calculating numerical metabolite representations using a Graph Neural Network\n"
     ]
    },
    {
     "name": "stderr",
     "output_type": "stream",
     "text": [
      "2025-02-15 18:55:14.202857: I tensorflow/stream_executor/platform/default/dso_loader.cc:48] Successfully opened dynamic library libcuda.so.1\n",
      "2025-02-15 18:55:14.345970: I tensorflow/core/common_runtime/gpu/gpu_device.cc:1716] Found device 0 with properties: \n",
      "pciBusID: 0000:ca:00.0 name: NVIDIA A100-SXM4-40GB MIG 3g.20gb computeCapability: 8.0\n",
      "coreClock: 1.41GHz coreCount: 42 deviceMemorySize: 19.50GiB deviceMemoryBandwidth: 724.20GiB/s\n",
      "2025-02-15 18:55:14.348408: W tensorflow/stream_executor/platform/default/dso_loader.cc:59] Could not load dynamic library 'libcudart.so.10.1'; dlerror: libcudart.so.10.1: cannot open shared object file: No such file or directory; LD_LIBRARY_PATH: /n/sw/helmod-rocky8/apps/Core/gcc/13.2.0-fasrc01/lib64:/n/sw/helmod-rocky8/apps/Core/gcc/13.2.0-fasrc01/lib:/n/sw/helmod-rocky8/apps/Core/mpc/1.3.1-fasrc02/lib64:/n/sw/helmod-rocky8/apps/Core/mpfr/4.2.1-fasrc01/lib64:/n/sw/helmod-rocky8/apps/Core/gmp/6.3.0-fasrc01/lib64\n",
      "2025-02-15 18:55:14.358028: W tensorflow/stream_executor/platform/default/dso_loader.cc:59] Could not load dynamic library 'libcublas.so.10'; dlerror: libcublas.so.10: cannot open shared object file: No such file or directory; LD_LIBRARY_PATH: /n/sw/helmod-rocky8/apps/Core/gcc/13.2.0-fasrc01/lib64:/n/sw/helmod-rocky8/apps/Core/gcc/13.2.0-fasrc01/lib:/n/sw/helmod-rocky8/apps/Core/mpc/1.3.1-fasrc02/lib64:/n/sw/helmod-rocky8/apps/Core/mpfr/4.2.1-fasrc01/lib64:/n/sw/helmod-rocky8/apps/Core/gmp/6.3.0-fasrc01/lib64\n",
      "2025-02-15 18:55:14.366184: W tensorflow/stream_executor/platform/default/dso_loader.cc:59] Could not load dynamic library 'libcufft.so.10'; dlerror: libcufft.so.10: cannot open shared object file: No such file or directory; LD_LIBRARY_PATH: /n/sw/helmod-rocky8/apps/Core/gcc/13.2.0-fasrc01/lib64:/n/sw/helmod-rocky8/apps/Core/gcc/13.2.0-fasrc01/lib:/n/sw/helmod-rocky8/apps/Core/mpc/1.3.1-fasrc02/lib64:/n/sw/helmod-rocky8/apps/Core/mpfr/4.2.1-fasrc01/lib64:/n/sw/helmod-rocky8/apps/Core/gmp/6.3.0-fasrc01/lib64\n",
      "2025-02-15 18:55:14.374261: W tensorflow/stream_executor/platform/default/dso_loader.cc:59] Could not load dynamic library 'libcurand.so.10'; dlerror: libcurand.so.10: cannot open shared object file: No such file or directory; LD_LIBRARY_PATH: /n/sw/helmod-rocky8/apps/Core/gcc/13.2.0-fasrc01/lib64:/n/sw/helmod-rocky8/apps/Core/gcc/13.2.0-fasrc01/lib:/n/sw/helmod-rocky8/apps/Core/mpc/1.3.1-fasrc02/lib64:/n/sw/helmod-rocky8/apps/Core/mpfr/4.2.1-fasrc01/lib64:/n/sw/helmod-rocky8/apps/Core/gmp/6.3.0-fasrc01/lib64\n",
      "2025-02-15 18:55:14.382234: W tensorflow/stream_executor/platform/default/dso_loader.cc:59] Could not load dynamic library 'libcusolver.so.10'; dlerror: libcusolver.so.10: cannot open shared object file: No such file or directory; LD_LIBRARY_PATH: /n/sw/helmod-rocky8/apps/Core/gcc/13.2.0-fasrc01/lib64:/n/sw/helmod-rocky8/apps/Core/gcc/13.2.0-fasrc01/lib:/n/sw/helmod-rocky8/apps/Core/mpc/1.3.1-fasrc02/lib64:/n/sw/helmod-rocky8/apps/Core/mpfr/4.2.1-fasrc01/lib64:/n/sw/helmod-rocky8/apps/Core/gmp/6.3.0-fasrc01/lib64\n",
      "2025-02-15 18:55:14.390235: W tensorflow/stream_executor/platform/default/dso_loader.cc:59] Could not load dynamic library 'libcusparse.so.10'; dlerror: libcusparse.so.10: cannot open shared object file: No such file or directory; LD_LIBRARY_PATH: /n/sw/helmod-rocky8/apps/Core/gcc/13.2.0-fasrc01/lib64:/n/sw/helmod-rocky8/apps/Core/gcc/13.2.0-fasrc01/lib:/n/sw/helmod-rocky8/apps/Core/mpc/1.3.1-fasrc02/lib64:/n/sw/helmod-rocky8/apps/Core/mpfr/4.2.1-fasrc01/lib64:/n/sw/helmod-rocky8/apps/Core/gmp/6.3.0-fasrc01/lib64\n",
      "2025-02-15 18:55:14.398289: W tensorflow/stream_executor/platform/default/dso_loader.cc:59] Could not load dynamic library 'libcudnn.so.7'; dlerror: libcudnn.so.7: cannot open shared object file: No such file or directory; LD_LIBRARY_PATH: /n/sw/helmod-rocky8/apps/Core/gcc/13.2.0-fasrc01/lib64:/n/sw/helmod-rocky8/apps/Core/gcc/13.2.0-fasrc01/lib:/n/sw/helmod-rocky8/apps/Core/mpc/1.3.1-fasrc02/lib64:/n/sw/helmod-rocky8/apps/Core/mpfr/4.2.1-fasrc01/lib64:/n/sw/helmod-rocky8/apps/Core/gmp/6.3.0-fasrc01/lib64\n",
      "2025-02-15 18:55:14.398297: W tensorflow/core/common_runtime/gpu/gpu_device.cc:1753] Cannot dlopen some GPU libraries. Please make sure the missing libraries mentioned above are installed properly if you would like to use GPU. Follow the guide at https://www.tensorflow.org/install/gpu for how to download and setup the required libraries for your platform.\n",
      "Skipping registering GPU devices...\n",
      "2025-02-15 18:55:14.399119: I tensorflow/core/platform/cpu_feature_guard.cc:142] This TensorFlow binary is optimized with oneAPI Deep Neural Network Library (oneDNN)to use the following CPU instructions in performance-critical operations:  AVX2 AVX512F FMA\n",
      "To enable them in other operations, rebuild TensorFlow with the appropriate compiler flags.\n",
      "2025-02-15 18:55:14.662288: I tensorflow/core/platform/profile_utils/cpu_utils.cc:104] CPU Frequency: 2600000000 Hz\n",
      "2025-02-15 18:55:14.662463: I tensorflow/compiler/xla/service/service.cc:168] XLA service 0x5614a090a830 initialized for platform Host (this does not guarantee that XLA will be used). Devices:\n",
      "2025-02-15 18:55:14.662479: I tensorflow/compiler/xla/service/service.cc:176]   StreamExecutor device (0): Host, Default Version\n",
      "2025-02-15 18:55:14.685458: I tensorflow/core/common_runtime/gpu/gpu_device.cc:1257] Device interconnect StreamExecutor with strength 1 edge matrix:\n",
      "2025-02-15 18:55:14.685469: I tensorflow/core/common_runtime/gpu/gpu_device.cc:1263]      \n"
     ]
    },
    {
     "name": "stdout",
     "output_type": "stream",
     "text": [
      "hello\n",
      "(None, 50)\n",
      "Step 2/3: Calculating numerical representations for all enzymes.\n",
      ".....2(a) Loading ESM-1b model.\n",
      ".....2(b) Calculating enzyme representations.\n",
      "Step 3/3: Making predictions for KM.\n"
     ]
    },
    {
     "data": {
      "text/html": [
       "<div>\n",
       "<style scoped>\n",
       "    .dataframe tbody tr th:only-of-type {\n",
       "        vertical-align: middle;\n",
       "    }\n",
       "\n",
       "    .dataframe tbody tr th {\n",
       "        vertical-align: top;\n",
       "    }\n",
       "\n",
       "    .dataframe thead th {\n",
       "        text-align: right;\n",
       "    }\n",
       "</style>\n",
       "<table border=\"1\" class=\"dataframe\">\n",
       "  <thead>\n",
       "    <tr style=\"text-align: right;\">\n",
       "      <th></th>\n",
       "      <th>substrate</th>\n",
       "      <th>enzyme</th>\n",
       "      <th>GNN rep</th>\n",
       "      <th>enzyme rep</th>\n",
       "      <th>complete</th>\n",
       "      <th>KM [mM]</th>\n",
       "    </tr>\n",
       "  </thead>\n",
       "  <tbody>\n",
       "    <tr>\n",
       "      <th>0</th>\n",
       "      <td>InChI=1S/C19H21N7O6/c20-19-25-15-14(17(30)26-1...</td>\n",
       "      <td>MSEARPFTLALVVAAAENDVIGREGKLPWRLKSDLKRFRRLTMGHP...</td>\n",
       "      <td>[17.985392, 128.0979, 15.768364, 49.953487, 0....</td>\n",
       "      <td>[0.112979494, 0.1907936, -0.00805205, 0.046816...</td>\n",
       "      <td>True</td>\n",
       "      <td>0.009852</td>\n",
       "    </tr>\n",
       "  </tbody>\n",
       "</table>\n",
       "</div>"
      ],
      "text/plain": [
       "                                           substrate  \\\n",
       "0  InChI=1S/C19H21N7O6/c20-19-25-15-14(17(30)26-1...   \n",
       "\n",
       "                                              enzyme  \\\n",
       "0  MSEARPFTLALVVAAAENDVIGREGKLPWRLKSDLKRFRRLTMGHP...   \n",
       "\n",
       "                                             GNN rep  \\\n",
       "0  [17.985392, 128.0979, 15.768364, 49.953487, 0....   \n",
       "\n",
       "                                          enzyme rep  complete   KM [mM]  \n",
       "0  [0.112979494, 0.1907936, -0.00805205, 0.046816...      True  0.009852  "
      ]
     },
     "execution_count": 4,
     "metadata": {},
     "output_type": "execute_result"
    }
   ],
   "source": [
    "from KM_prediction import *\n",
    "#this is for dhfr uncomment\n",
    "#substrate_list = [\"InChI=1S/C19H23N7O6/c20-19-25-15-14(17(30)26-19)23-11(8-22-15)7-21-10-3-1-9(2-4-10)16(29)24-12(18(31)32)5-6-13(27)28/h1-4,11-12,21,23H,5-8H2,(H,24,29)(H,27,28)(H,31,32)(H4,20,22,25,26,30)/t11-,12-/m0/s1;InChI=1S/C21H27N7O14P2/c22-17-12-19(25-7-24-17)28(8-26-12)21-16(32)14(30)11(41-21)6-39-44(36,37)42-43(34,35)38-5-10-13(29)15(31)20(40-10)27-3-1-2-9(4-27)18(23)33/h1-4,7-8,10-11,13-16,20-21,29-32H,5-6H2,(H5-,22,23,24,25,33,34,35,36,37)/p+1/t10-,11-,13-,14-,15-,16-,20-,21-/m1/s1\",]\n",
    "\n",
    "substrate_list = [\"InChI=1S/C19H21N7O6/c20-19-25-15-14(17(30)26-19)23-11(8-22-15)7-21-10-3-1-9(2-4-10)16(29)24-12(18(31)32)5-6-13(27)28/h1-4,12,21H,5-8H2,(H,24,29)(H,27,28)(H,31,32)(H4,20,22,25,26,30)/t12-/m0/s1\",]\n",
    "\n",
    "#products = [\"InChI=1S/C6H5NO4/c8-5-2-1-4(7(10)11)3-6(5)9/h1-3,8-9H;InChI=1S/CH2O2/c2-1-3/h1H,(H,2,3);InChI=1S/H2O/h1H2\"]\n",
    "\n",
    "#dihydrofolate acid, NADPH uncomment below\n",
    "#products = [\"InChI=1S/C19H21N7O6/c20-19-25-15-14(17(30)26-19)23-11(8-22-15)7-21-10-3-1-9(2-4-10)16(29)24-12(18(31)32)5-6-13(27)28/h1-4,12,21H,5-8H2,(H,24,29)(H,27,28)(H,31,32)(H4,20,22,25,26,30)/t12-/m0/s1;InChI=1S/C21H30N7O17P3/c22-17-12-19(25-7-24-17)28(8-26-12)21-16(44-46(33,34)35)14(30)11(43-21)6-41-48(38,39)45-47(36,37)40-5-10-13(29)15(31)20(42-10)27-3-1-2-9(4-27)18(23)32/h1,3-4,7-8,10-11,13-16,20-21,29-31H,2,5-6H2,(H2,23,32)(H,36,37)(H,38,39)(H2,22,24,25)(H2,33,34,35)/t10-,11-,13-,14-,15-,16-,20-,21-/m1/s1;InChI=1S/p+1\"]\n",
    "\n",
    "#H+\n",
    "#;1S/p+1\n",
    "\n",
    "\n",
    "#enzymes = [\"MKYFPLFPTLVFAARVVAFPAYASLAGLSQQELDAIIPTLEAREPGLPPGPLENSSAKLVNDEAHPWKPLRPGDIRGPCPGLNTLASHGYLPRNGVATPVQIINAVQEGLNFDNQAAVFATYAAHLVDGNLITDLLSIGRKTRLTGPDPPPPASVGGLNEHGTFEGDASMTRGDAFFGNNHDFNETLFEQLVDYSNRFGGGKYNLTVAGELRFKRIQDSIATNPNFSFVDFRFFTAYGETTFPANLFVDGRRDDGQLDMDAARSFFQFSRMPDDFFRAPSPRSGTGVEVVIQAHPMQPGRNVGKINSYTVDPTSSDFSTPCLMYEKFVNITVKSLYPNPTVQLRKALNTNLDFFFQGVAAGCTQVFPYGRD\"]\n",
    "\n",
    "#DHFR\n",
    "#enzymes = [\"MVGSLNCIVAVSQNMGIGKNGDLPWPPLRNEFRYFQRMTTTSSVEGKQNLVIMGKKTWFSIPEKNRPLKGRINLVLSRELKEPPQGAHFLSRSLDDALKLTEQPELANKVDMVWIVGGSSVYKEAMNHPGHLKLFVTRIMQDFESDTFFPEIDLEKYKLLPEYPGVLSDVQEEKGIKYKFEVYEKND\"]\n",
    "\n",
    "#1\n",
    "#enzyme_list = [\"MISFIFAMDANRLIGKDNDLPWHLPNDLAYFKKITSGHSIIMGRKTFESIGRPLPNRKNIVVTSAPDSEFQGCTVVSSLKDVLDICSGPEECFVIGGAQLYTDLFPYADRLYMTKIHHEFEGDRHFPEFDESNWKLVSSEQGTKDEKNPYDYEFLMYEKKNSSKVGGF\"]\n",
    "#2\n",
    "#enzyme_list = [\"MTFSLIVATTLNSVIGKDNQMPWHLPADLAWFRQNTTGKPVIMGRKTFESIGRPLPKRTNIVLSRQPFKHEGVVWKNSLESAVNFVRDFDEIMLIGGGELFKQYLPKADKLYLTQIQTELDGDTFFPQLNWEEWKIEFDEYHKADEQNRYDCRSLILTRK\"]\n",
    "#3\n",
    "#enzyme_list = [\"MTFSLIVAMTKNHVIGKDNQMPWHLPADLAWFRQNTTGKPVIMGRKTFESIGRPLPKRTNLVLSRQPYLHEGVIWQNSLESAVDFVKDSPEILLIGGGELFKQYLHKADKLYLTEIQTELEGDTFFPEIVWQDWQIEYEAWHQADEKNPYDCRFLILSRNTKNE\"]\n",
    "#4\n",
    "#enzyme_list = [\"MIIGIWAEDEAGLIGEADKMPWSLPAEQQHFKETTMNQVILMGRKTFEGMNKRVLPGRISIILTRDETYQSDNEKVLIMHSPKEVLDWYHKQNKDLFITGGAEILALFESELELLYRTVVHEKFKGDTYFPSTFDFGRFKLVSEKFHDKDERNSYTFTIKKYEKVKQP\"]\n",
    "#5\n",
    "#enzyme_list = [\"MLSIIAALNENYVIGNENKLIWHISDDLKRFKKLTTGKTIIMGRKTFESLPGVLPNRKHIVITKNLNYSRENVSIVHSIDEIIELKDTTEENFIIGGGEIYRALIPYCSILYLTKVHSNQTGDAFFPKFDENDYSIIATEKHGDYDFVTFKRR\"]\n",
    "#6\n",
    "#enzyme_list = [\"MIIFVWAQDRAGNIGKDNKMPWHLPGDLQFFKKTTTGKTLVMGRKTYESLGKALPNRKTIVLTRDNELQLDDAEILHSRDEVLALAETGEPIYVVGGAEIYRLFMDVADKLIVTKIDAEFDADTAFPEVDWENFSEVAKEPHEKDEKNKYNYTFYTYERN\"]\n",
    "#7\n",
    "#enzyme_list = [\"MPMPATPLLSLVVAYSTNGVIGRDNALPWKLPGDLAHFKRTTLGHPIIMGRNTWESLGRPLPGRTNIVITRNPAYGAAGAVVVGSLDAAIQACGDAAVACVIGGAQIYAQALPLAQRVVATEVHAEIEGDAFFPPLPAGQWRETQRAAQPAENGLRYDFVEYERVAG\"]\n",
    "#8\n",
    "#enzyme_list = [\"MIISLIAALAADRVIGMENAMPWHLPADLAWFKRNTLNKPVIMGRKTFESIGRPLPGRLNIVISSQPGTDERVTWAASIEEALAFAGNAEEVMVMGGGRVYKQFLDRANRMYLTHIDAEVGGDTHFPDYEPDEWESVFSEFHDADEANSHSYCFEILERR\"]\n",
    "#9\n",
    "#enzyme_list = [\"MTRPPDISLIVAMARNRVIGADNAMPWHLSADLKRFRALTLGKPVLMGRKTHESIGRVLPGRQNIILTRSPDFHAPGCTIVHDLGELATVCSGAPELMVIGGSAVYEALLPRARRLYLTLIDHDYPGDTYFPEFAAADWREISREDVRNDPDFPWPYSYLVLERASPEARCQ\"]\n",
    "#10\n",
    "#enzyme_list = [\"MSGTGQPRVSVIAALAKNRVIGIENRLPWRLPEDLAHFKALTLDHPVLMGRKTFESLGRPLPRRTNVVITRNADYRPDGCLVAASMPAAIALCQGADEIFFIGGAELYAQAIPLADRLYLTEVDAEPEGDAWFPEFDRAAFREISRASHVGEKGDVLRFDFVVYERR\"]\n",
    "#11\n",
    "#enzyme_list = [\"MAQLTLIVAYARNRVIGRDNTLPWRLPGDLAHFKRSTLGHPIVMGRNTWESLGRPLPGRKNIVVSRNPDYRAEGAIVVPDLQSALKMAEADEVFVIGGAQIYSQALPLATRIIATEIQANVAGDAYFPPLAQTEWRETSRQPQPEENGYHYDFVVYERNR\"]\n",
    "#12\n",
    "#enzyme_list = [\"MTKIKMVWAEDRQHAIGKDGGIPWHMPDDLKLFRDETVNTLMIMGRPTWLSIGRPLPKRTTVVMTRQEDWTPSYPEVKVIHSIEEAKNLIAKEERDITIAGGAAVYREFMPYATDLVITRVDGVIDGDTFVDEVDLTQFQLKSSEPHAKDDNHDYAFVVERYERI\"]\n",
    "#13\n",
    "#enzyme_list = [\"MMISMIAAMAHDRVIGLDNQMPWHLPADLAHFKRVTLGKPVLMGRKTFESIGRPLPGRRNLVISRNPDYRADGVEVIDSVDAALALLAGSDVAELMVIGGGHLYGQLLPRADRLYLTRIDLAVEGDTRFPAFDEGDWSCIERESHQPDEKNPHSYCFETWQRR\"]\n",
    "#14\n",
    "#enzyme_list = [\"MRIAMIAAMANNRVIGKDNQMPWHLPEDLKHFKAMTLGKPVVMGRKTFESIGRPLPGRHNIVISRQSDYSHEGISLVSSFEEAVALAGDCEELVVIGGGQLYQTLISQADKLYLTEIALEVEGDTHFPAWDDGSWETVESTEHVSDKGLQYRFITLVKKC\"]\n",
    "#16\n",
    "#enzyme_list = [\"MISMIWAMGRNNALGCKNRMPWYIPADFAYFKKVTMGKPVIMGRKTFESIGKPLPGRKNIVITRDTGYDPQGCIVVNSIEKAMEYTEEKEVFIIGGAEIYKEFLPIADRLYITLIEKEFEADAFFPEIDYSKWKQISCETGIKDEKNPYEYKWLVYERVKQ\"]\n",
    "#17\n",
    "#enzyme_list = [\"MTKEMIAIWAEDEAGLIGVDGKLPWYLPRELQHFKETTLNQAILMGRVTFDGMNRRLLPNRQTLVMTRDVNYQVDGVLTMTSVEEVLDWYHAQEKTLYVIGGSKVLEAFDGYFNRVIKTVVHHQFEGDTYRPKLDLSRFREESQTFYPKDANNPYDFTVTVLKHQ\"]\n",
    "#19\n",
    "#enzyme_list = [\"MINLIWAQDANGNIGKDNQMPWRLPADLAYFKKQTTGKTIVMGRKTYDSLGKALPNRENIVLTRDPELTLADASVVHTKADILKRAEKEAIFIIGGAQIYALFADDADRLYVTKIAATFDADTAFPVLDWSAFRLVQETPGHIDEKNKYPHAFLVYEREQEIQ\"]\n",
    "#20\n",
    "#enzyme_list = [\"MIISLIAALAADRVIGMENAMPWHLPADLAWFKRNTLNKPVIMGRKTFESIGRPLPGRLNIVISSQPGADSRVSWATSIDEALALAGEVEEVMVMGGGHVYSQFLDRAHRMYLTHIDAEVGGDTHFPDYEPDEWETSFSEFHDADEANSHSYCFEVLERR\"]\n",
    "#21\n",
    "#enzyme_list = [\"MHKMAEKNLIWAQTLDGTIAIDGHIPWHQKADLQFFKQSTIHEAALMGRHTMASFHGRPLPERLNLVLTRNHDLEVPEGFQKVYSVAEAEKVADNANLKLQVIGGKPIYESFMDTADTLYVTYLQTDFSGDVKMAPVDLTVWQGEVIDQGPADADNDYDWRLVKYTRQ\"]\n",
    "#22\n",
    "#enzyme_list = [\"MTTISLIAAIDESGGLGINNQLLCHLPADLQHFKSITMGKPIIMGRKTFDSIGKPLPGRLNIVLSRSLSFIDGVHVLDSLEKAIEYTAGHDEIMIIGGAVLFNDAIDKASSLYITHIHHQFAADVFFPKIDKSVWHCQNEQFRHQDEKNKHDMTFCFYERKH\"]\n",
    "#23\n",
    "#enzyme_list = [\"MKLSLMVAISKNGVIGNGPDIPWSAKGEQLLFKAITYNQWLLVGRKTFESMGALPNRKYAVVTRSSFTSDNENVLIFPSIKDALTNLKKITDHVIVSGGGEIYKSLIDQVDTLHISTIDIEPEGDVYFPEIPSNFRPVFTQDFASNINYSYQIWQKG\"]\n",
    "#26\n",
    "#enzyme_list = [\"MKLTLIVAFDRNNAIGRDNDLPWKLPDDLKRFKALTLGKPILMGRKTAQSLGRALPERLNLVLTRSGQVPFEGMHAVASVEQAIERAAQDGAQELCVIGGGEVYRLTMQRADLLAVTEVDTVVDGADTHFPPIDPALWEAVQRESHAADARHAFAFDYVDYRRR\"]\n",
    "#27\n",
    "#enzyme_list = [\"MNTSLPLSLIAAYAENRVIGIDNSMPWHLPGDFKYFKATTLGKPIIMGRKTWDSLGRPLPGRLNIVVSRQPGLELAGAEVFASLEEALVRAEQWAREQGVGELMLIGGAQLYGQALEKGLVSRMYLTRVELAPEGDAWFPAFDEGQWRLTSSEAQAEEGKPAYHFEVWDKG\"]\n",
    "#30\n",
    "#enzyme_list = [\"MIISFIVAMDENHLIGANRRLPWHLPADLKYFRRMTMGKPMLMGRSTHEAIGRPLPGRHNIVVTHNPDYKAPGCTVVHTVEAGLQAAGEAEEVTVIGGASLYEQLLPQARRIYLTLVRGHFQGDTWFPAFDPGTWVEVWREDYDPDPQNPYPYSFIRLEREERKK\"]\n",
    "#31\n",
    "#enzyme_list = [\"MISMIWAEDLRHGIGKQQSIPWHIPGDMAFFKKTTSGNTVVMGRKTFDSIGKALPNRKNIVLSHHPTSLPDSVVGVGSLSELQAIFETHPNEKFYIIGGSHLYNALLSQADELLITRIQKDYQCEVLAPDITQNEFKLASSVEHESTERNPAYTFETWIRI\"]\n",
    "#32\n",
    "#enzyme_list = [\"MISIIVAIAKDNVIGKDNKLLWHISEDLKRFKKITTGKKMIMGRKTFESLPGILPNREHIVLTRDNNFNVDSDKVTIEHDFNSVLQRYSECEDEVFVIGGAEIYKQFLPYAKKLYLTKVDEEFEGDTYFPGINYSNYNTEYTSEKFIDEKNGLHYTFVNLIQA\"]\n",
    "#33\n",
    "#enzyme_list = [\"MISLIAALAVDRVIGMENAMPWNLPADLAWFKRNTLNKPVVMGRHTWESIGRPLPGRKNIVISSQPGTDDRVQWVKSVDEAIAACGDAPEIMVIGGGRVYEQFLPKAQKLYLTHIDAEVEGDTHFPDYEPDDWESVFSEFHDADEQNSHSYCFEILERR\"]\n",
    "#35\n",
    "#enzyme_list = [\"MIISLIAALSADRVIGLDNAMPWHLSADLAWFKRNTLAKPVIMGRKTYESIGRPLPGRHNIVISRQAGCDDRVSWVATPEAALTAAADADEVMIIGGGTLYEQFLPQASRLYLTHVDADVAGDTYFPDYAPDEWQTCFSEFHEADSDNSHAYCFEILDRR\"]\n",
    "#36\n",
    "#enzyme_list = [\"MKIGLVAALTRNQVIGRYNALPWSLPADLQRFKKITMGKPIIMGRKTYDSIGRPLPGRKNIVISRNPDFHADGVTVVDSLDMALEAADQAPEVMVIGGANIYYQFLPRADRLYFTLVHTTIDDGDAFFPAYNRRDWRLVIEENHPADADNPFPYSFMTWQRITPPKNQSDTPEAHHI\"]\n",
    "#37\n",
    "#enzyme_list = [\"MAPVFFSEPFNMISLIAALAADRIIGMENAMPWDLPADLAWFKRNTLKKPVIMGRLTFESIGRPLPGRLNIVVSSKPGSAEGVTWVTSLDDAISAAGEAEEIMVIGGGRIYEQMLARADRLYLTHIDAEVEGDTQFPDYEPDEWHSTFSEFHDADEQNSHSYCFEILERRR\"]\n",
    "#38\n",
    "#enzyme_list = [\"MITSIWAQSKNNVIGRNNRLPWSLPDDLKFFRQETKNKAVVMGRKTYESFGSKALPKRLNIILTSNMDFKSNDPEVKIVHSPIEAVNTAKEQHLPLYVIGGASVYESFMNMADRLLITLVDANIKGDTFAPNFSEKSFSLVSQCHHAQDKKHAYSFDFLTYERKNKSDQV\"]\n",
    "#39\n",
    "#enzyme_list = [\"MTTLTLIVARARNGVIGRDNQLPWKLPEDLAFFKRTTMGAPIVMGRRTHESIGRPLPGRRNIVVTRDAARRFDGCDTVTSLDGALALAARDGAAEAFLIGGAQLYAEGLRHADKLIVTEIDQDFEGDASFPAPDPAQWEAVSRDAHRAAAPNDFAYAFVVYRRKRAG\"]\n",
    "#41\n",
    "#enzyme_list = [\"MPKITLIAACAPDRCIGINNTMPWHLPEDFAFFKSYTLDKPVVMGRKTWESLPRKPLPGRRNIVISRQADYPAEGAETVGSLEEALALCAAAEEVIIMGGAQIYAQALPLASDLRITEVALDVQGDAFFPEFSPSEWREAARETHTSANGTGYAFVHYTRIR\"]\n",
    "#42\n",
    "#enzyme_list = [\"MMISMIAAMAENRIIGKDNQMPWHLPADFAWFKRCTLGKPVIMGRKTYQSIGRPLPGRHNIVISRDESLQIDGVDVVTSIDAALAKAGEVDEIMIIGGGSLYAACLPMANKLYITEINAELDGDTQFPAWGSDWQECYREHYPADEKNTYAMDFVIFERK\"]\n",
    "#43\n",
    "\n",
    "enzyme_list = [\"MSEARPFTLALVVAAAENDVIGREGKLPWRLKSDLKRFRRLTMGHPLIMGRKTFASIGKPLDGRDSVIVTRDAASVSPQPGVFVATSIKDALDIARARAAERRVAEAFVIGGAEIFALALPYADRIHLARVHASPSGDAYWQAPPAEEWQVVSREEWPANQTDEFSVTDLVLERSPRA\"]\n",
    "\n",
    "\n",
    "KM_predicton(substrate_list, enzyme_list)\n",
    "\n",
    "\n",
    "\n",
    "\n",
    "#KM_predicton(substrate_list = [\"InChI=1S/C21H27N7O14P2/c22-17-12-19(25-7-24-17)28(8-26-12)21-16(32)14(30)11(41-21)6-39-44(36,37)42-43(34,35)38-5-10-13(29)15(31)20(40-10)27-3-1-2-9(4-27)18(23)33/h1-4,7-8,10-11,13-16,20-21,29-32H,5-6H2,(H5-,22,23,24,25,33,34,35,36,37)/p-1/t10-,11-,13-,14-,15-,16-,20-,21-/m1/s1\"], enzyme_list = [\"MSIPETQKGVIFYESHGKLEYKDIPVPKPKANELLINVKYSGVCHTDLHAWHGDWPLPVKLPLVGGHEGAGVVVGMGENVKWKIGDYAGIKWLNGSCMACEYCELGNESNCPHADLSGYTHDGSFQQYATADAVQAAHIPQGTDLAQVAPILCAGITVYKALKSANLMAGHWVAISGAAGGLGSLAVQYAKAMGYRVLGIDGGEGKEELFRSIGGEVFIDFTKEKDIVGAVLKATDGGAHGVINVSVSEAAIEASTRYVRANGTTVLVGMPAGAKCCSDVFNQVVKSISIVGSYVGNRADTREALDFFARGLVKSPIKVVGLSTLPEIYEKMEKGQIVGRYVVDTSK\"])"
   ]
  },
  {
   "cell_type": "code",
   "execution_count": null,
   "metadata": {},
   "outputs": [],
   "source": []
  },
  {
   "cell_type": "code",
   "execution_count": null,
   "metadata": {},
   "outputs": [],
   "source": []
  },
  {
   "cell_type": "code",
   "execution_count": null,
   "metadata": {},
   "outputs": [],
   "source": []
  },
  {
   "cell_type": "code",
   "execution_count": null,
   "metadata": {},
   "outputs": [],
   "source": []
  }
 ],
 "metadata": {
  "kernelspec": {
   "display_name": "Python (km)",
   "language": "python",
   "name": "km"
  },
  "language_info": {
   "codemirror_mode": {
    "name": "ipython",
    "version": 3
   },
   "file_extension": ".py",
   "mimetype": "text/x-python",
   "name": "python",
   "nbconvert_exporter": "python",
   "pygments_lexer": "ipython3",
   "version": "3.7.12"
  }
 },
 "nbformat": 4,
 "nbformat_minor": 4
}
